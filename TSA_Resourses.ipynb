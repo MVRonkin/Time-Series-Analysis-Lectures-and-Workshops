{
 "cells": [
  {
   "cell_type": "markdown",
   "metadata": {},
   "source": [
    "<h1> Resourses </h1>\n"
   ]
  },
  {
   "cell_type": "markdown",
   "metadata": {},
   "source": [
    "<font size=4pt  face = 'constntia' style='Line-height :2'>\n",
    "\n",
    "* [statsmodels-Statistical methods of Time Series Analysis](https://www.statsmodels.org/stable/user-guide.html#time-series-analysis)<br>\n",
    "* [pmdarima - Auto ARIMA library](https://github.com/alkaline-ml/pmdarima)<br>\n",
    "* [prophet - ARMA Based Facebook Prediction Library](https://facebook.github.io/prophet/docs/quick_start.html),[and here](https://github.com/facebook/prophet)<br>\n",
    "* [sktime  - Scikit-Learn Comparible Library](https://github.com/alan-turing-institute/sktime)<br>\n",
    "* [tslearn - Another Scikit-Learn Comparible Library](https://github.com/tslearn-team/tslearn)<br>\n",
    "* [scikit-learn for TS](https://scikit-learn.org/stable/modules/generated/sklearn.model_selection.TimeSeriesSplit.html)<br>\n",
    "* [pandas for TS](https://pandas.pydata.org/docs/user_guide/timeseries.html)<br>\n",
    "* [sktime-dl_Deep_Learning_for_TS](https://github.com/sktime/sktime-dl)<br>\n",
    "* [sktime-tutoruals](https://github.com/sktime/sktime-tutorial-pydata-amsterdam-2020)<br>\n",
    "* [pyts-Time Series_Classification](https://github.com/johannfaouzi/pyts)<br>\n",
    "* [tsfresh-Time Series Feature extraction](https://github.com/blue-yonder/tsfresh)<br>\n",
    "* [GluneTS - Probabilistic time series modeling in Python](https://github.com/awslabs/gluon-ts)<br>\n",
    "* [pyflux -classical methods for TSA](https://github.com/RJT1990/pyflux)<br>\n",
    "* [inceptionTime - Popular Neural Network for TS](https://github.com/hfawaz/InceptionTime)<br>\n",
    "* [nerural-Prophet](https://github.com/ourownstory/neural_prophet)<br>\n",
    "* [fireTS - Nonelinear AR models](https://pypi.org/project/fireTS/)<br>\n",
    "* [Deep Learning for TS with FastAI(PyTorch)](https://github.com/timeseriesAI/tsai)<br>\n",
    "* [dl-4-tsc - deep learning frame work for TS](https://github.com/hfawaz/dl-4-tsc/)<br>\n",
    "* [Practical_Time_Series_Examples](https://github.com/nmmarcelnv/PracticalTimeSeries)<br>\n",
    "* [Anomaly detection benchmark](https://github.com/numenta/NAB)<br>\n",
    "* [Kenchi-Scikit-learn based anomaly detection](https://pypi.org/project/kenchi/)<br>\n",
    "* [alibi-detect - Anomaly Detection for Time series](https://github.com/SeldonIO/alibi-detect)<br>\n",
    "* [awesome time series anomaly detection](https://github.com/rob-med/awesome-TS-anomaly-detection)<br>\n",
    "* [TimeSynth - Multipurpose Library for Synthetic Time Series](https://github.com/TimeSynth/TimeSynth)<br>\n",
    "* [Deep learning in TS](https://github.com/Alro10/deep-learning-time-series)<br>\n",
    "* [flow-forecast - DL for TS](https://github.com/AIStream-Peelout/flow-forecast);<br>\n",
    "* [Awesome time series](https://github.com/cuge1995/awesome-time-series), [and here](https://github.com/bifeng/Awesome-time-series),[and here](https://github.com/youngdou/awesome-time-series-analysis), [and here too](https://github.com/MaxBenChrist/awesome_time_series_in_python)<br>\n",
    "* [Awesome time series datasets](https://github.com/awesomedata/awesome-public-datasets#time-series)\n",
    "* [Web-site devoted to the  time series classification problems](http://timeseriesclassification.com/index.php)<br>\n",
    "* [Awesome signal processing](https://awesomeopensource.com/projects/signal-processing)<br>\n",
    "* [Paper with a code - Time series](https://paperswithcode.com/task/time-series-prediction) [and here](https://paperswithcode.com/area/time-series)<br>\n",
    "* [Awesome deep learning projects](https://project-awesome.org/guillaume-chevalier/awesome-deep-learning-resources)<br>\n",
    "* [Awesome python ML projects](https://github.com/ml-tooling/best-of-ml-python)<br>\n",
    "* [Awesome python data science](https://github.com/krzjoa/awesome-python-data-science)<br>\n",
    "* [Different awesome python resources](https://github.com/vinta/awesome-python)<br>\n",
    "* [Forecasting best practices from microsoft](https://github.com/microsoft/forecasting)<br>\n",
    "* [Tutorials for TS from openAI](https://mlcourse.ai/) [and here](https://mlcourse.ai/tutorials)<br>\n",
    "* [Practical Time Series Analysis Book](https://github.com/PracticalTimeSeriesAnalysis/BookRepo) <br>\n",
    "* [UCR Time Series Classification Archive](https://www.cs.ucr.edu/~eamonn/time_series_data_2018/), [and here](https://pypi.org/project/uea-ucr-datasets/)<br>\n",
    "* [GAN for TS](https://github.com/vanderschaarlab/mlforhealthlabpub).\n",
    "* [pydist2 - distance in python](https://github.com/Harmouch101/pydist2).\n",
    "* [sagemaker - amazone library with deepAR](https://github.com/aws/amazon-sagemaker-examples/).\n",
    "* [time series sqeuence2sequence](https://github.com/JEddy92/TimeSeries_Seq2Seq)    \n",
    "* [keras - TCN](https://github.com/philipperemy/keras-tcn) \n",
    "* [deep TCN](https://github.com/oneday88/deepTCN)    \n",
    "* [Flow forecast - deep learning for time series forecasting framework](https://github.com/AIStream-Peelout/flow-forecast)\n",
    "* [repository of stock prediction models](https://github.com/huseinzol05/Stock-Prediction-Models)\n",
    "* [neural_prophet](https://github.com/ourownstory/neural_prophet)\n",
    "* [Time Series Feature Extraction Library](https://github.com/fraunhoferportugal/tsfel)"
   ]
  },
  {
   "cell_type": "code",
   "execution_count": null,
   "metadata": {},
   "outputs": [],
   "source": []
  }
 ],
 "metadata": {
  "kernelspec": {
   "display_name": "Python 3",
   "language": "python",
   "name": "python3"
  },
  "language_info": {
   "codemirror_mode": {
    "name": "ipython",
    "version": 3
   },
   "file_extension": ".py",
   "mimetype": "text/x-python",
   "name": "python",
   "nbconvert_exporter": "python",
   "pygments_lexer": "ipython3",
   "version": "3.7.4"
  },
  "latex_envs": {
   "LaTeX_envs_menu_present": true,
   "autoclose": false,
   "autocomplete": true,
   "bibliofile": "biblio.bib",
   "cite_by": "apalike",
   "current_citInitial": 1,
   "eqLabelWithNumbers": true,
   "eqNumInitial": 1,
   "hotkeys": {
    "equation": "Ctrl-E",
    "itemize": "Ctrl-I"
   },
   "labels_anchors": false,
   "latex_user_defs": false,
   "report_style_numbering": false,
   "user_envs_cfg": false
  },
  "toc": {
   "base_numbering": 1,
   "nav_menu": {},
   "number_sections": true,
   "sideBar": true,
   "skip_h1_title": false,
   "title_cell": "Table of Contents",
   "title_sidebar": "Contents",
   "toc_cell": false,
   "toc_position": {
    "height": "700px",
    "left": "464px",
    "top": "556px",
    "width": "165px"
   },
   "toc_section_display": true,
   "toc_window_display": true
  }
 },
 "nbformat": 4,
 "nbformat_minor": 4
}
