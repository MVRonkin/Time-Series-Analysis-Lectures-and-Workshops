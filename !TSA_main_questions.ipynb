{
 "cells": [
  {
   "cell_type": "markdown",
   "metadata": {},
   "source": [
    "  \n",
    "    \n",
    "<h1> Introduction to Time Series Analysis </h1>\n"
   ]
  },
  {
   "cell_type": "markdown",
   "metadata": {},
   "source": [
    "<font size=4.5pt  face = 'georgia' style='Line-height :3'><div style='text-align: justify; padding:35px; margin-top:-35px; margin-bottom:-35px'>\n",
    "<ol>\n",
    "<li> Definition of a Time Series;\n",
    "<li> Tasks of Time Series Analysis and its Examples;    \n",
    "<li> Specificity of the Time Series additive model, types of the time series models;     \n",
    "<li> Difference between Trend (including cyclic part) and Seasonality;\n",
    "<li> Meaning of the noises in the Time Series Analysis, definition of the White-Gaussian-Noises (and Identity Independent Distributed noise, I.I.D.) in the Time Series Analysis; \n",
    "<li> Difference between deterministic and stochastic trend models;\n",
    "<li> Definition of Stationary and Non-Stationary series and Examples of such time series;\n",
    "<li> Definition of Univariate and Multivariate series;  \n",
    "<li> Main statistical characteristics of Time Series (mean, std, variance, autocorrelation function, partial-autocorrelation function, cross-correlation function); \n",
    "<li> Tasks of Residual Analysis;    \n",
    "<li> Types of Moving-Average (Simple, Weighted; Exponential, Holt, Holt-Winter, Error,Trend,Seasonal).   \n",
    "<li> Task of ARMA (Autoregressive–moving-average ) modeling.\n",
    "<li> Aim of usual difference (ARIMA) and seasonal difference (SARIMA).    \n",
    "<li> Difference between ARMA, ARIMA, SARIMA, SARIMAX.   \n",
    "<li> Meaning of SARIM orders (p,d,q)(P,D,Q)s.      \n",
    "<li> ARIMA measures: AIC, BIC -what the difference with just RSS.  \n",
    "<li> Tasks of Exploratory Data Analysis.\n",
    "<li> Tasks of Feature extraction.\n",
    "<li> Tasks of Feature selection.\n",
    "<li> Tasks of Feature representation.\n",
    "<li> Difference between frequency- and time- domain representation.    \n",
    "<li> Tasks of Time Series Clustering. \n",
    "<li> Tasks of Time Series Classification.\n",
    "<li> Types of time series Distances.\n",
    "<li> Tasks of Time Series Anomaly detection.\n",
    "<li> Reasons why you need to use Deep learning in Time Series Analysis.\n",
    "<li> Types of Deep learning Neural Networks in Time Series Analysis.\n",
    "<li> Meaning of the dialed convolution in Time Series Analysis.\n",
    "<li> Advantages and Disadvantages of using Recurrent neural networks in   Time Series Analysis.  \n",
    "<li> Advantages and Disadvantages of using Attention-based networks in Time Series Analysis.    "
   ]
  },
  {
   "cell_type": "code",
   "execution_count": null,
   "metadata": {},
   "outputs": [],
   "source": []
  }
 ],
 "metadata": {
  "kernelspec": {
   "display_name": "Python 3",
   "language": "python",
   "name": "python3"
  },
  "language_info": {
   "codemirror_mode": {
    "name": "ipython",
    "version": 3
   },
   "file_extension": ".py",
   "mimetype": "text/x-python",
   "name": "python",
   "nbconvert_exporter": "python",
   "pygments_lexer": "ipython3",
   "version": "3.7.0"
  },
  "toc": {
   "base_numbering": 1,
   "nav_menu": {},
   "number_sections": true,
   "sideBar": true,
   "skip_h1_title": false,
   "title_cell": "Table of Contents",
   "title_sidebar": "Contents",
   "toc_cell": false,
   "toc_position": {
    "height": "calc(100% - 180px)",
    "left": "10px",
    "top": "150px",
    "width": "218px"
   },
   "toc_section_display": true,
   "toc_window_display": true
  }
 },
 "nbformat": 4,
 "nbformat_minor": 4
}
