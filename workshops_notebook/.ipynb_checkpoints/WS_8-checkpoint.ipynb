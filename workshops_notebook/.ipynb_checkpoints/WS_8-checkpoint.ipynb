{
 "cells": [
  {
   "cell_type": "markdown",
   "metadata": {},
   "source": [
    "# Workshop - 8 Deep Learning Based Time Series Analysis"
   ]
  },
  {
   "cell_type": "markdown",
   "metadata": {},
   "source": [
    "## Import and data"
   ]
  },
  {
   "cell_type": "code",
   "execution_count": 1,
   "metadata": {
    "scrolled": true
   },
   "outputs": [
    {
     "name": "stdout",
     "output_type": "stream",
     "text": [
      "Requirement already satisfied: sktime in c:\\users\\ronkin\\appdata\\local\\programs\\python\\python37\\lib\\site-packages (0.6.1)\n",
      "Collecting sktime\n",
      "  Downloading sktime-0.11.0-py3-none-any.whl (6.6 MB)\n",
      "     ---------------------------------------- 6.6/6.6 MB 5.3 MB/s eta 0:00:00\n",
      "Collecting deprecated>=1.2.13\n",
      "  Downloading Deprecated-1.2.13-py2.py3-none-any.whl (9.6 kB)\n",
      "Requirement already satisfied: scipy<1.8.0 in c:\\users\\ronkin\\appdata\\local\\programs\\python\\python37\\lib\\site-packages (from sktime) (1.7.1)\n",
      "Requirement already satisfied: statsmodels>=0.12.1 in c:\\users\\ronkin\\appdata\\local\\programs\\python\\python37\\lib\\site-packages (from sktime) (0.13.2)\n",
      "Requirement already satisfied: pandas<1.5.0,>=1.1.0 in c:\\users\\ronkin\\appdata\\local\\programs\\python\\python37\\lib\\site-packages (from sktime) (1.1.4)\n",
      "Requirement already satisfied: scikit-learn>=0.24.0 in c:\\users\\ronkin\\appdata\\local\\programs\\python\\python37\\lib\\site-packages (from sktime) (0.24.2)\n",
      "Collecting numpy<1.22,>=1.21.0\n",
      "  Downloading numpy-1.21.5-cp37-cp37m-win_amd64.whl (14.0 MB)\n",
      "     ---------------------------------------- 14.0/14.0 MB 7.0 MB/s eta 0:00:00\n",
      "Requirement already satisfied: numba>=0.53 in c:\\users\\ronkin\\appdata\\local\\programs\\python\\python37\\lib\\site-packages (from sktime) (0.53.1)\n",
      "Requirement already satisfied: wrapt<2,>=1.10 in c:\\users\\ronkin\\appdata\\local\\programs\\python\\python37\\lib\\site-packages (from deprecated>=1.2.13->sktime) (1.12.1)\n",
      "Requirement already satisfied: setuptools in c:\\users\\ronkin\\appdata\\local\\programs\\python\\python37\\lib\\site-packages (from numba>=0.53->sktime) (50.3.2)\n",
      "Requirement already satisfied: llvmlite<0.37,>=0.36.0rc1 in c:\\users\\ronkin\\appdata\\local\\programs\\python\\python37\\lib\\site-packages (from numba>=0.53->sktime) (0.36.0)\n",
      "Requirement already satisfied: pytz>=2017.2 in c:\\users\\ronkin\\appdata\\local\\programs\\python\\python37\\lib\\site-packages (from pandas<1.5.0,>=1.1.0->sktime) (2020.4)\n",
      "Requirement already satisfied: python-dateutil>=2.7.3 in c:\\users\\ronkin\\appdata\\local\\programs\\python\\python37\\lib\\site-packages (from pandas<1.5.0,>=1.1.0->sktime) (2.8.1)\n",
      "Requirement already satisfied: threadpoolctl>=2.0.0 in c:\\users\\ronkin\\appdata\\local\\programs\\python\\python37\\lib\\site-packages (from scikit-learn>=0.24.0->sktime) (2.1.0)\n",
      "Requirement already satisfied: joblib>=0.11 in c:\\users\\ronkin\\appdata\\local\\programs\\python\\python37\\lib\\site-packages (from scikit-learn>=0.24.0->sktime) (0.17.0)\n",
      "Requirement already satisfied: packaging>=21.3 in c:\\users\\ronkin\\appdata\\local\\programs\\python\\python37\\lib\\site-packages (from statsmodels>=0.12.1->sktime) (21.3)\n",
      "Requirement already satisfied: patsy>=0.5.2 in c:\\users\\ronkin\\appdata\\local\\programs\\python\\python37\\lib\\site-packages (from statsmodels>=0.12.1->sktime) (0.5.2)\n",
      "Requirement already satisfied: pyparsing!=3.0.5,>=2.0.2 in c:\\users\\ronkin\\appdata\\local\\programs\\python\\python37\\lib\\site-packages (from packaging>=21.3->statsmodels>=0.12.1->sktime) (2.4.7)\n",
      "Requirement already satisfied: six in c:\\users\\ronkin\\appdata\\local\\programs\\python\\python37\\lib\\site-packages (from patsy>=0.5.2->statsmodels>=0.12.1->sktime) (1.15.0)\n",
      "Installing collected packages: numpy, deprecated, sktime\n",
      "  Attempting uninstall: numpy\n",
      "    Found existing installation: numpy 1.20.3\n",
      "    Uninstalling numpy-1.20.3:\n",
      "      Successfully uninstalled numpy-1.20.3\n"
     ]
    },
    {
     "name": "stderr",
     "output_type": "stream",
     "text": [
      "WARNING: Ignoring invalid distribution -yyaml (c:\\users\\ronkin\\appdata\\local\\programs\\python\\python37\\lib\\site-packages)\n",
      "WARNING: Ignoring invalid distribution -yyaml (c:\\users\\ronkin\\appdata\\local\\programs\\python\\python37\\lib\\site-packages)\n",
      "WARNING: Ignoring invalid distribution -yyaml (c:\\users\\ronkin\\appdata\\local\\programs\\python\\python37\\lib\\site-packages)\n",
      "    WARNING: Ignoring invalid distribution -yyaml (c:\\users\\ronkin\\appdata\\local\\programs\\python\\python37\\lib\\site-packages)\n",
      "ERROR: Could not install packages due to an OSError: [WinError 5] Отказано в доступе: 'c:\\\\users\\\\ronkin\\\\appdata\\\\local\\\\programs\\\\python\\\\python37\\\\lib\\\\site-packages\\\\~-mpy\\\\.libs\\\\libopenblas.GK7GX5KEQ4F6UYO3P26ULGBQYHGQO7J4.gfortran-win_amd64.dll'\n",
      "Consider using the `--user` option or check the permissions.\n",
      "\n",
      "WARNING: Ignoring invalid distribution -yyaml (c:\\users\\ronkin\\appdata\\local\\programs\\python\\python37\\lib\\site-packages)\n",
      "WARNING: Ignoring invalid distribution -yyaml (c:\\users\\ronkin\\appdata\\local\\programs\\python\\python37\\lib\\site-packages)\n"
     ]
    }
   ],
   "source": [
    "!pip install -U sktime\n",
    "\n"
   ]
  },
  {
   "cell_type": "code",
   "execution_count": 96,
   "metadata": {},
   "outputs": [],
   "source": [
    "from sklearn.preprocessing import StandardScaler\n",
    "\n",
    "from keras.models import Sequential\n",
    "from keras.layers import Dense\n",
    "from keras.layers import GlobalAvgPool1D\n",
    "from keras.layers import Dropout\n",
    "from keras.layers.convolutional import Conv1D\n",
    "from keras.layers.convolutional import MaxPooling1D\n",
    "from keras.utils import to_categorical"
   ]
  },
  {
   "cell_type": "code",
   "execution_count": 140,
   "metadata": {},
   "outputs": [],
   "source": [
    "from sktime.datasets import load_italy_power_demand\n",
    "from sktime.utils.data_processing import from_nested_to_2d_array"
   ]
  },
  {
   "cell_type": "code",
   "execution_count": 47,
   "metadata": {},
   "outputs": [],
   "source": [
    "import matplotlib.pyplot as plt\n",
    "import numpy as np\n",
    "\n",
    "import pandas as pd\n",
    "\n",
    "%matplotlib inline"
   ]
  },
  {
   "cell_type": "markdown",
   "metadata": {},
   "source": [
    "<font size=4.5pt  face = 'georgia' style='Line-height :3'><div style='text-align: justify; padding:35px; margin-top:-35px; margin-bottom:-35px'>\n",
    "    Here we will use the dataset of italy power demand."
   ]
  },
  {
   "cell_type": "code",
   "execution_count": 180,
   "metadata": {},
   "outputs": [
    {
     "name": "stdout",
     "output_type": "stream",
     "text": [
      "(1096, 1) (1096,)\n"
     ]
    }
   ],
   "source": [
    "xdf, ydf = load_italy_power_demand( return_X_y=True)\n",
    "print(xdf.shape,ydf.shape)"
   ]
  },
  {
   "cell_type": "markdown",
   "metadata": {},
   "source": [
    "<font size=4.5pt  face = 'georgia' style='Line-height :3'><div style='text-align: justify; padding:35px; margin-top:-35px; margin-bottom:-35px'>\n",
    "    Let's transform it to the conventional from."
   ]
  },
  {
   "cell_type": "code",
   "execution_count": 188,
   "metadata": {
    "scrolled": true
   },
   "outputs": [
    {
     "name": "stdout",
     "output_type": "stream",
     "text": [
      "(1096, 24)\n",
      "(1096,)\n"
     ]
    }
   ],
   "source": [
    "x = from_nested_to_2d_array(xdf)\n",
    "\n",
    "x = x.values\n",
    "print(x.shape)\n",
    "\n",
    "y = ydf.values\n",
    "print(y.shape)"
   ]
  },
  {
   "cell_type": "code",
   "execution_count": 189,
   "metadata": {
    "scrolled": true
   },
   "outputs": [
    {
     "name": "stdout",
     "output_type": "stream",
     "text": [
      "labels ['1' '2'] count [547 549]\n"
     ]
    }
   ],
   "source": [
    "labels, count = np.unique(y, return_counts=True)\n",
    "print('labels',lables, 'count', count)\n",
    "\n",
    "y = [0 if yi=='2' else 1 for yi in y]\n",
    "\n",
    "\n"
   ]
  },
  {
   "cell_type": "code",
   "execution_count": 191,
   "metadata": {
    "scrolled": true
   },
   "outputs": [
    {
     "name": "stdout",
     "output_type": "stream",
     "text": [
      "labels [0 1] count [549 547]\n"
     ]
    }
   ],
   "source": [
    "y =np.array(y)\n",
    "labels, count = np.unique(y, return_counts=True)\n",
    "print('labels',labels, 'count', count)"
   ]
  },
  {
   "cell_type": "markdown",
   "metadata": {},
   "source": [
    "<font size=4.5pt  face = 'georgia' style='Line-height :3'><div style='text-align: justify; padding:35px; margin-top:-35px; margin-bottom:-35px'>\n",
    "    And we can visualize each instance"
   ]
  },
  {
   "cell_type": "code",
   "execution_count": 192,
   "metadata": {
    "scrolled": false
   },
   "outputs": [
    {
     "name": "stdout",
     "output_type": "stream",
     "text": [
      "0\n"
     ]
    },
    {
     "data": {
      "image/png": "[encoded data removed]",
      "text/plain": [
       "<Figure size 432x288 with 1 Axes>"
      ]
     },
     "metadata": {
      "needs_background": "light"
     },
     "output_type": "display_data"
    },
    {
     "name": "stdout",
     "output_type": "stream",
     "text": [
      "1\n"
     ]
    },
    {
     "data": {
      "image/png": "[encoded data removed]",
      "text/plain": [
       "<Figure size 432x288 with 1 Axes>"
      ]
     },
     "metadata": {
      "needs_background": "light"
     },
     "output_type": "display_data"
    }
   ],
   "source": [
    "instance = 9\n",
    "plt.plot(x[instance,:])\n",
    "print(y[instance]);\n",
    "plt.show()\n",
    "instance = 99\n",
    "plt.plot(x[instance,:])\n",
    "print(y[instance]);"
   ]
  },
  {
   "cell_type": "markdown",
   "metadata": {},
   "source": [
    "<font size=4.5pt  face = 'georgia' style='Line-height :3'><div style='text-align: justify; padding:35px; margin-top:-35px; margin-bottom:-35px'>\n",
    "    Now we can make train-test split, and transform datasets to use conventional form for keras."
   ]
  },
  {
   "cell_type": "code",
   "execution_count": 194,
   "metadata": {},
   "outputs": [
    {
     "data": {
      "text/plain": [
       "((548,), (548,), (548, 24, 1), (548, 24, 1))"
      ]
     },
     "execution_count": 194,
     "metadata": {},
     "output_type": "execute_result"
    }
   ],
   "source": [
    "\n",
    "TEST_SIZE = int(x.shape[0]*0.5)\n",
    "\n",
    "x_train,x_test = x[:TEST_SIZE,:,np.newaxis],x[-TEST_SIZE:,:,np.newaxis]\n",
    "y_train,y_test = y[:TEST_SIZE],y[-TEST_SIZE:]\n",
    "\n",
    "y_train.shape,y_test.shape,x_train.shape,x_test.shape"
   ]
  },
  {
   "cell_type": "markdown",
   "metadata": {},
   "source": [
    "<font size=4.5pt  face = 'georgia' style='Line-height :3'><div style='text-align: justify; padding:35px; margin-top:-35px; margin-bottom:-35px'>\n",
    "    Here we will build a base-line model for classification"
   ]
  },
  {
   "cell_type": "code",
   "execution_count": 198,
   "metadata": {
    "scrolled": true
   },
   "outputs": [
    {
     "name": "stdout",
     "output_type": "stream",
     "text": [
      "Model: \"sequential_23\"\n",
      "_________________________________________________________________\n",
      "Layer (type)                 Output Shape              Param #   \n",
      "=================================================================\n",
      "conv1d_46 (Conv1D)           (None, 22, 64)            256       \n",
      "_________________________________________________________________\n",
      "conv1d_47 (Conv1D)           (None, 20, 64)            12352     \n",
      "_________________________________________________________________\n",
      "dropout_23 (Dropout)         (None, 20, 64)            0         \n",
      "_________________________________________________________________\n",
      "max_pooling1d_23 (MaxPooling (None, 10, 64)            0         \n",
      "_________________________________________________________________\n",
      "global_average_pooling1d_21  (None, 64)                0         \n",
      "_________________________________________________________________\n",
      "dense_26 (Dense)             (None, 1)                 65        \n",
      "=================================================================\n",
      "Total params: 12,673\n",
      "Trainable params: 12,673\n",
      "Non-trainable params: 0\n",
      "_________________________________________________________________\n"
     ]
    }
   ],
   "source": [
    "epochs = 100\n",
    "batch_size = 32\n",
    "\n",
    "\n",
    "n_timesteps = x_train.shape[1]\n",
    "n_features  = 1\n",
    "n_outputs   = labels.shape[0]\n",
    "\n",
    "# # scale data\n",
    "# x_train, x_test = scale_data(x_train, x_test, param)\n",
    "\n",
    "\n",
    "model = Sequential()\n",
    "#24\n",
    "model.add(Conv1D(filters=64, kernel_size=3, activation='relu', input_shape=(n_timesteps,n_features)))\n",
    "#22x64\n",
    "model.add(Conv1D(filters=64, kernel_size=3, activation='relu'))\n",
    "#20x64*64\n",
    "model.add(Dropout(0.5))\n",
    "model.add(MaxPooling1D(pool_size=2))\n",
    "\n",
    "#10x64*64\n",
    "model.add(GlobalAvgPool1D())\n",
    "model.add(Dense(1, activation='sigmoid'))\n",
    "\n",
    "model.compile(loss='binary_crossentropy', optimizer='adam', metrics=['accuracy'])\n",
    "\n",
    "model.summary()\n",
    "\n",
    "# # fit network\n"
   ]
  },
  {
   "cell_type": "markdown",
   "metadata": {},
   "source": [
    "<font size=4.5pt  face = 'georgia' style='Line-height :3'><div style='text-align: justify; padding:35px; margin-top:-35px; margin-bottom:-35px'>\n",
    "    Let's train it"
   ]
  },
  {
   "cell_type": "code",
   "execution_count": 199,
   "metadata": {
    "scrolled": true
   },
   "outputs": [
    {
     "name": "stdout",
     "output_type": "stream",
     "text": [
      "Epoch 1/100\n",
      "18/18 [==============================] - 1s 3ms/step - loss: 0.6926 - accuracy: 0.4918\n",
      "Epoch 2/100\n",
      "18/18 [==============================] - 0s 3ms/step - loss: 0.6820 - accuracy: 0.5846\n",
      "Epoch 3/100\n",
      "18/18 [==============================] - 0s 3ms/step - loss: 0.6740 - accuracy: 0.6051\n",
      "Epoch 4/100\n",
      "18/18 [==============================] - 0s 3ms/step - loss: 0.6649 - accuracy: 0.6090\n",
      "Epoch 5/100\n",
      "18/18 [==============================] - 0s 3ms/step - loss: 0.6508 - accuracy: 0.6103\n",
      "Epoch 6/100\n",
      "18/18 [==============================] - 0s 3ms/step - loss: 0.6450 - accuracy: 0.6724\n",
      "Epoch 7/100\n",
      "18/18 [==============================] - 0s 3ms/step - loss: 0.6388 - accuracy: 0.6818\n",
      "Epoch 8/100\n",
      "18/18 [==============================] - 0s 3ms/step - loss: 0.6463 - accuracy: 0.6110\n",
      "Epoch 9/100\n",
      "18/18 [==============================] - 0s 4ms/step - loss: 0.6381 - accuracy: 0.6617\n",
      "Epoch 10/100\n",
      "18/18 [==============================] - 0s 4ms/step - loss: 0.6141 - accuracy: 0.6584\n",
      "Epoch 11/100\n",
      "18/18 [==============================] - 0s 3ms/step - loss: 0.6156 - accuracy: 0.7019\n",
      "Epoch 12/100\n",
      "18/18 [==============================] - 0s 3ms/step - loss: 0.5980 - accuracy: 0.6853\n",
      "Epoch 13/100\n",
      "18/18 [==============================] - 0s 3ms/step - loss: 0.6011 - accuracy: 0.6863\n",
      "Epoch 14/100\n",
      "18/18 [==============================] - 0s 3ms/step - loss: 0.5990 - accuracy: 0.6903\n",
      "Epoch 15/100\n",
      "18/18 [==============================] - 0s 3ms/step - loss: 0.5871 - accuracy: 0.7666\n",
      "Epoch 16/100\n",
      "18/18 [==============================] - 0s 3ms/step - loss: 0.5953 - accuracy: 0.6638\n",
      "Epoch 17/100\n",
      "18/18 [==============================] - 0s 3ms/step - loss: 0.5914 - accuracy: 0.6534\n",
      "Epoch 18/100\n",
      "18/18 [==============================] - 0s 3ms/step - loss: 0.5814 - accuracy: 0.7288\n",
      "Epoch 19/100\n",
      "18/18 [==============================] - 0s 3ms/step - loss: 0.5473 - accuracy: 0.7729\n",
      "Epoch 20/100\n",
      "18/18 [==============================] - 0s 3ms/step - loss: 0.5461 - accuracy: 0.7916\n",
      "Epoch 21/100\n",
      "18/18 [==============================] - 0s 3ms/step - loss: 0.5391 - accuracy: 0.7890\n",
      "Epoch 22/100\n",
      "18/18 [==============================] - 0s 3ms/step - loss: 0.5405 - accuracy: 0.8111\n",
      "Epoch 23/100\n",
      "18/18 [==============================] - 0s 3ms/step - loss: 0.5158 - accuracy: 0.7950\n",
      "Epoch 24/100\n",
      "18/18 [==============================] - 0s 3ms/step - loss: 0.5097 - accuracy: 0.8267\n",
      "Epoch 25/100\n",
      "18/18 [==============================] - 0s 3ms/step - loss: 0.4851 - accuracy: 0.8076\n",
      "Epoch 26/100\n",
      "18/18 [==============================] - 0s 3ms/step - loss: 0.4842 - accuracy: 0.8096\n",
      "Epoch 27/100\n",
      "18/18 [==============================] - 0s 3ms/step - loss: 0.4991 - accuracy: 0.8021\n",
      "Epoch 28/100\n",
      "18/18 [==============================] - 0s 3ms/step - loss: 0.5004 - accuracy: 0.7650\n",
      "Epoch 29/100\n",
      "18/18 [==============================] - 0s 3ms/step - loss: 0.4682 - accuracy: 0.8376\n",
      "Epoch 30/100\n",
      "18/18 [==============================] - 0s 3ms/step - loss: 0.4422 - accuracy: 0.8443\n",
      "Epoch 31/100\n",
      "18/18 [============================..] - ETA: 0s - loss: 0.4392 - accuracy: 0.87"
     ]
    },
    {
     "data": {
      "text/html": [
       "<b>limit_output extension: Maximum message size of 10000 exceeded with 10047 characters</b>"
      ]
     },
     "metadata": {},
     "output_type": "display_data"
    }
   ],
   "source": [
    "model.fit(x_train, \n",
    "          y_train, \n",
    "          epochs=epochs, \n",
    "          batch_size=batch_size, \n",
    "          verbose=1)\n",
    "\n"
   ]
  },
  {
   "cell_type": "markdown",
   "metadata": {},
   "source": [
    "<font size=4.5pt  face = 'georgia' style='Line-height :3'><div style='text-align: justify; padding:35px; margin-top:-35px; margin-bottom:-35px'>\n",
    "    Now we can evaluate it"
   ]
  },
  {
   "cell_type": "code",
   "execution_count": 197,
   "metadata": {},
   "outputs": [
    {
     "name": "stdout",
     "output_type": "stream",
     "text": [
      "18/18 [==============================] - 0s 940us/step - loss: 0.1940 - accuracy: 0.9416\n"
     ]
    }
   ],
   "source": [
    "# evaluate model\n",
    "_, accuracy = model.evaluate(x_test, y_test, batch_size=batch_size, verbose=1)"
   ]
  },
  {
   "cell_type": "markdown",
   "metadata": {},
   "source": [
    "## Exercise 1"
   ]
  },
  {
   "cell_type": "markdown",
   "metadata": {},
   "source": [
    "<font size=4.5pt  face = 'georgia' style='Line-height :3'><div style='text-align: justify; padding:35px; margin-top:-35px; margin-bottom:-35px'>\n",
    "1. Try to improve the accuracy of the CNN model using your experience in neural-network architectures."
   ]
  },
  {
   "cell_type": "code",
   "execution_count": null,
   "metadata": {},
   "outputs": [],
   "source": []
  },
  {
   "cell_type": "code",
   "execution_count": null,
   "metadata": {},
   "outputs": [],
   "source": []
  }
 ],
 "metadata": {
  "kernelspec": {
   "display_name": "Python 3",
   "language": "python",
   "name": "python3"
  },
  "language_info": {
   "codemirror_mode": {
    "name": "ipython",
    "version": 3
   },
   "file_extension": ".py",
   "mimetype": "text/x-python",
   "name": "python",
   "nbconvert_exporter": "python",
   "pygments_lexer": "ipython3",
   "version": "3.7.0"
  },
  "toc": {
   "base_numbering": 1,
   "nav_menu": {},
   "number_sections": true,
   "sideBar": true,
   "skip_h1_title": false,
   "title_cell": "Table of Contents",
   "title_sidebar": "Contents",
   "toc_cell": false,
   "toc_position": {
    "height": "calc(100% - 180px)",
    "left": "10px",
    "top": "150px",
    "width": "192.102px"
   },
   "toc_section_display": true,
   "toc_window_display": true
  }
 },
 "nbformat": 4,
 "nbformat_minor": 2
}
